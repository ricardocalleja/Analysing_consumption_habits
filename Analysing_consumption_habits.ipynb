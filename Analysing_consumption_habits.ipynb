{
 "cells": [
  {
   "cell_type": "markdown",
   "metadata": {},
   "source": [
    "<p><h1>Analysing consumption habits</h1></p>\n",
    "\n",
    "During the pandemic caused by Sars-cov 19🦠 I was in Chile as an inmigrant. I had just arrived on January 17th 2020 at the Capital Santiago with my mother👵, an eldery (74). Furtunately I found a convenient located appartment next to the supermarket 🛒 \"Lider\" which is the Chilean version of Walmart.\n",
    "\n",
    "Since the confinement started on March 22th. We decided to go out only once a week to buy groceries, preferably during non-busy hours (around 9am). Since I was unemployed I rigorously controled my budget, and doing so I kept all the receipts from the grocery store, then after almost a year I had 70 receipts of this peculiar 2020.\n",
    "\n",
    "In the next lines I will show you How did I analysed the data from the groceries store's receipts.\n",
    "\n",
    "<p><h1>The data</h1></p>\n",
    "This is how one of those <a href=\"https://drive.google.com/file/d/1UBuSZwed86JgsYzJH0pmkTx4Lo_oitp1/view?usp=sharing\">receipts</a>🧾 looks like. Well, my first approach to extract the data from the receipts was to scan it using th Goggle Drive functionality, and after that, to use google vision API to convert the pdf file to text and this was the <a href=\"https://drive.google.com/file/d/10v3jhFpseSjfe4ou2N1j2Wkr5FRd2wmK/view?usp=sharing\" >result</a>. I asked for help on regular expressions and my friend @madacol helped me with this <a href=\"https://regex101.com/r/cr2Acv/3/\">regex</a> that was able to detect 4 important fields (product_id, quantity, product_description and unit_price). But due to the format it only detected 26 out of 30 items in the receipt.\n",
    "\n",
    "In order to find a solution to this issue I found that there was an option to download the receipt in a digital format through their website. So this was actually what I did. I manually downloaded the receipts. If anybody knows how to do it automatically please let me know. So, here you will find the <a href=\"https://drive.google.com/file/d/1cl0NC4IE9-H6zNncszAjTW1GglVdRhB-/view?usp=sharing\">70 receipts</a>. I copied and pasted the content of all pdf files and using a regexp extracted the previously mentioned fields and put them in into excel to finally get this <a href= \"https://drive.google.com/file/d/1O1gUBz0_aSfuZKJR7gGhGkklHe-wm9UX/view?usp=sharing\">dataset</a>."
   ]
  },
  {
   "cell_type": "markdown",
   "metadata": {},
   "source": [
    "### Read a CSV file\n"
   ]
  },
  {
   "cell_type": "code",
   "execution_count": 17,
   "metadata": {},
   "outputs": [],
   "source": [
    "import pandas as pd\n",
    "from datetime import datetime\n",
    "df = pd.read_csv('DATA.csv', encoding = \"ISO-8859-1\") #, encoding= \"utf-8\" "
   ]
  },
  {
   "cell_type": "code",
   "execution_count": 18,
   "metadata": {},
   "outputs": [
    {
     "data": {
      "text/html": [
       "<div>\n",
       "<style scoped>\n",
       "    .dataframe tbody tr th:only-of-type {\n",
       "        vertical-align: middle;\n",
       "    }\n",
       "\n",
       "    .dataframe tbody tr th {\n",
       "        vertical-align: top;\n",
       "    }\n",
       "\n",
       "    .dataframe thead th {\n",
       "        text-align: right;\n",
       "    }\n",
       "</style>\n",
       "<table border=\"1\" class=\"dataframe\">\n",
       "  <thead>\n",
       "    <tr style=\"text-align: right;\">\n",
       "      <th></th>\n",
       "      <th>date (m/d/y)</th>\n",
       "      <th>codigo</th>\n",
       "      <th>descripcion</th>\n",
       "      <th>cantidad</th>\n",
       "      <th>precio_unitario</th>\n",
       "      <th>total</th>\n",
       "      <th>boleta_electronica</th>\n",
       "      <th>local</th>\n",
       "      <th>caja</th>\n",
       "      <th>dia</th>\n",
       "      <th>mes</th>\n",
       "      <th>año</th>\n",
       "      <th>trans_n</th>\n",
       "      <th>cajero</th>\n",
       "      <th>hora</th>\n",
       "      <th>total_articulos</th>\n",
       "      <th>atendido_por</th>\n",
       "    </tr>\n",
       "  </thead>\n",
       "  <tbody>\n",
       "    <tr>\n",
       "      <th>0</th>\n",
       "      <td>1/17/2020</td>\n",
       "      <td>7798160461771</td>\n",
       "      <td>BOLSA PLA GR</td>\n",
       "      <td>1.000</td>\n",
       "      <td>990</td>\n",
       "      <td>990</td>\n",
       "      <td>1490873643</td>\n",
       "      <td>682</td>\n",
       "      <td>12</td>\n",
       "      <td>17</td>\n",
       "      <td>1</td>\n",
       "      <td>2020</td>\n",
       "      <td>63</td>\n",
       "      <td>67</td>\n",
       "      <td>11:52</td>\n",
       "      <td>18</td>\n",
       "      <td>XIMENA QUIROZ</td>\n",
       "    </tr>\n",
       "    <tr>\n",
       "      <th>1</th>\n",
       "      <td>1/17/2020</td>\n",
       "      <td>400006849151</td>\n",
       "      <td>MUG IVORY</td>\n",
       "      <td>1.000</td>\n",
       "      <td>990</td>\n",
       "      <td>990</td>\n",
       "      <td>1490873643</td>\n",
       "      <td>682</td>\n",
       "      <td>12</td>\n",
       "      <td>17</td>\n",
       "      <td>1</td>\n",
       "      <td>2020</td>\n",
       "      <td>63</td>\n",
       "      <td>67</td>\n",
       "      <td>11:52</td>\n",
       "      <td>18</td>\n",
       "      <td>XIMENA QUIROZ</td>\n",
       "    </tr>\n",
       "    <tr>\n",
       "      <th>2</th>\n",
       "      <td>1/17/2020</td>\n",
       "      <td>2000140000005</td>\n",
       "      <td>PLATANO</td>\n",
       "      <td>0.845</td>\n",
       "      <td>920</td>\n",
       "      <td>777</td>\n",
       "      <td>1525186435</td>\n",
       "      <td>682</td>\n",
       "      <td>6</td>\n",
       "      <td>17</td>\n",
       "      <td>1</td>\n",
       "      <td>2020</td>\n",
       "      <td>71</td>\n",
       "      <td>133</td>\n",
       "      <td>15:25</td>\n",
       "      <td>16</td>\n",
       "      <td>CLAUDIA JORQUERA</td>\n",
       "    </tr>\n",
       "    <tr>\n",
       "      <th>3</th>\n",
       "      <td>1/17/2020</td>\n",
       "      <td>2000040000006</td>\n",
       "      <td>CEBOLLA GRAN</td>\n",
       "      <td>0.580</td>\n",
       "      <td>850</td>\n",
       "      <td>493</td>\n",
       "      <td>1525186435</td>\n",
       "      <td>682</td>\n",
       "      <td>6</td>\n",
       "      <td>17</td>\n",
       "      <td>1</td>\n",
       "      <td>2020</td>\n",
       "      <td>71</td>\n",
       "      <td>133</td>\n",
       "      <td>15:25</td>\n",
       "      <td>16</td>\n",
       "      <td>CLAUDIA JORQUERA</td>\n",
       "    </tr>\n",
       "    <tr>\n",
       "      <th>4</th>\n",
       "      <td>1/17/2020</td>\n",
       "      <td>7802655002230</td>\n",
       "      <td>HARINA S/POL</td>\n",
       "      <td>1.000</td>\n",
       "      <td>800</td>\n",
       "      <td>800</td>\n",
       "      <td>1490873643</td>\n",
       "      <td>682</td>\n",
       "      <td>12</td>\n",
       "      <td>17</td>\n",
       "      <td>1</td>\n",
       "      <td>2020</td>\n",
       "      <td>63</td>\n",
       "      <td>67</td>\n",
       "      <td>11:52</td>\n",
       "      <td>18</td>\n",
       "      <td>XIMENA QUIROZ</td>\n",
       "    </tr>\n",
       "  </tbody>\n",
       "</table>\n",
       "</div>"
      ],
      "text/plain": [
       "  date (m/d/y)         codigo   descripcion  cantidad  precio_unitario  total  \\\n",
       "0    1/17/2020  7798160461771  BOLSA PLA GR     1.000              990    990   \n",
       "1    1/17/2020   400006849151     MUG IVORY     1.000              990    990   \n",
       "2    1/17/2020  2000140000005       PLATANO     0.845              920    777   \n",
       "3    1/17/2020  2000040000006  CEBOLLA GRAN     0.580              850    493   \n",
       "4    1/17/2020  7802655002230  HARINA S/POL     1.000              800    800   \n",
       "\n",
       "   boleta_electronica  local  caja  dia  mes   año  trans_n  cajero   hora  \\\n",
       "0          1490873643    682    12   17    1  2020       63      67  11:52   \n",
       "1          1490873643    682    12   17    1  2020       63      67  11:52   \n",
       "2          1525186435    682     6   17    1  2020       71     133  15:25   \n",
       "3          1525186435    682     6   17    1  2020       71     133  15:25   \n",
       "4          1490873643    682    12   17    1  2020       63      67  11:52   \n",
       "\n",
       "   total_articulos      atendido_por  \n",
       "0               18     XIMENA QUIROZ  \n",
       "1               18     XIMENA QUIROZ  \n",
       "2               16  CLAUDIA JORQUERA  \n",
       "3               16  CLAUDIA JORQUERA  \n",
       "4               18     XIMENA QUIROZ  "
      ]
     },
     "execution_count": 18,
     "metadata": {},
     "output_type": "execute_result"
    }
   ],
   "source": [
    "df.head()"
   ]
  },
  {
   "cell_type": "code",
   "execution_count": 19,
   "metadata": {},
   "outputs": [
    {
     "data": {
      "text/html": [
       "<div>\n",
       "<style scoped>\n",
       "    .dataframe tbody tr th:only-of-type {\n",
       "        vertical-align: middle;\n",
       "    }\n",
       "\n",
       "    .dataframe tbody tr th {\n",
       "        vertical-align: top;\n",
       "    }\n",
       "\n",
       "    .dataframe thead th {\n",
       "        text-align: right;\n",
       "    }\n",
       "</style>\n",
       "<table border=\"1\" class=\"dataframe\">\n",
       "  <thead>\n",
       "    <tr style=\"text-align: right;\">\n",
       "      <th></th>\n",
       "      <th>date (m/d/y)</th>\n",
       "      <th>codigo</th>\n",
       "      <th>descripcion</th>\n",
       "      <th>cantidad</th>\n",
       "      <th>precio_unitario</th>\n",
       "      <th>total</th>\n",
       "      <th>boleta_electronica</th>\n",
       "      <th>local</th>\n",
       "      <th>caja</th>\n",
       "      <th>dia</th>\n",
       "      <th>mes</th>\n",
       "      <th>año</th>\n",
       "      <th>trans_n</th>\n",
       "      <th>cajero</th>\n",
       "      <th>hora</th>\n",
       "      <th>total_articulos</th>\n",
       "      <th>atendido_por</th>\n",
       "    </tr>\n",
       "  </thead>\n",
       "  <tbody>\n",
       "    <tr>\n",
       "      <th>1513</th>\n",
       "      <td>12/28/2020</td>\n",
       "      <td>7804622260063</td>\n",
       "      <td>ZAPALLO CAMO</td>\n",
       "      <td>1.0</td>\n",
       "      <td>1390</td>\n",
       "      <td>1390</td>\n",
       "      <td>1680354484</td>\n",
       "      <td>682</td>\n",
       "      <td>22</td>\n",
       "      <td>28</td>\n",
       "      <td>12</td>\n",
       "      <td>2020</td>\n",
       "      <td>145</td>\n",
       "      <td>493</td>\n",
       "      <td>18:29</td>\n",
       "      <td>27</td>\n",
       "      <td>cajero  exrerno</td>\n",
       "    </tr>\n",
       "    <tr>\n",
       "      <th>1514</th>\n",
       "      <td>12/28/2020</td>\n",
       "      <td>7801420130130</td>\n",
       "      <td>ARROZ INTEGR</td>\n",
       "      <td>1.0</td>\n",
       "      <td>1280</td>\n",
       "      <td>1280</td>\n",
       "      <td>1680354484</td>\n",
       "      <td>682</td>\n",
       "      <td>22</td>\n",
       "      <td>28</td>\n",
       "      <td>12</td>\n",
       "      <td>2020</td>\n",
       "      <td>145</td>\n",
       "      <td>493</td>\n",
       "      <td>18:29</td>\n",
       "      <td>27</td>\n",
       "      <td>cajero  exrerno</td>\n",
       "    </tr>\n",
       "    <tr>\n",
       "      <th>1515</th>\n",
       "      <td>12/28/2020</td>\n",
       "      <td>7804930000306</td>\n",
       "      <td>LIMP CREMA</td>\n",
       "      <td>1.0</td>\n",
       "      <td>1230</td>\n",
       "      <td>1230</td>\n",
       "      <td>1680354484</td>\n",
       "      <td>682</td>\n",
       "      <td>22</td>\n",
       "      <td>28</td>\n",
       "      <td>12</td>\n",
       "      <td>2020</td>\n",
       "      <td>145</td>\n",
       "      <td>493</td>\n",
       "      <td>18:29</td>\n",
       "      <td>27</td>\n",
       "      <td>cajero  exrerno</td>\n",
       "    </tr>\n",
       "    <tr>\n",
       "      <th>1516</th>\n",
       "      <td>12/28/2020</td>\n",
       "      <td>7801220001203</td>\n",
       "      <td>ENSALADA MIX</td>\n",
       "      <td>1.0</td>\n",
       "      <td>1150</td>\n",
       "      <td>1150</td>\n",
       "      <td>1680354484</td>\n",
       "      <td>682</td>\n",
       "      <td>22</td>\n",
       "      <td>28</td>\n",
       "      <td>12</td>\n",
       "      <td>2020</td>\n",
       "      <td>145</td>\n",
       "      <td>493</td>\n",
       "      <td>18:29</td>\n",
       "      <td>27</td>\n",
       "      <td>cajero  exrerno</td>\n",
       "    </tr>\n",
       "    <tr>\n",
       "      <th>1517</th>\n",
       "      <td>12/28/2020</td>\n",
       "      <td>7801365000284</td>\n",
       "      <td>CHAMPINON BA</td>\n",
       "      <td>1.0</td>\n",
       "      <td>1090</td>\n",
       "      <td>1090</td>\n",
       "      <td>1680354484</td>\n",
       "      <td>682</td>\n",
       "      <td>22</td>\n",
       "      <td>28</td>\n",
       "      <td>12</td>\n",
       "      <td>2020</td>\n",
       "      <td>145</td>\n",
       "      <td>493</td>\n",
       "      <td>18:29</td>\n",
       "      <td>27</td>\n",
       "      <td>cajero  exrerno</td>\n",
       "    </tr>\n",
       "  </tbody>\n",
       "</table>\n",
       "</div>"
      ],
      "text/plain": [
       "     date (m/d/y)         codigo   descripcion  cantidad  precio_unitario  \\\n",
       "1513   12/28/2020  7804622260063  ZAPALLO CAMO       1.0             1390   \n",
       "1514   12/28/2020  7801420130130  ARROZ INTEGR       1.0             1280   \n",
       "1515   12/28/2020  7804930000306    LIMP CREMA       1.0             1230   \n",
       "1516   12/28/2020  7801220001203  ENSALADA MIX       1.0             1150   \n",
       "1517   12/28/2020  7801365000284  CHAMPINON BA       1.0             1090   \n",
       "\n",
       "      total  boleta_electronica  local  caja  dia  mes   año  trans_n  cajero  \\\n",
       "1513   1390          1680354484    682    22   28   12  2020      145     493   \n",
       "1514   1280          1680354484    682    22   28   12  2020      145     493   \n",
       "1515   1230          1680354484    682    22   28   12  2020      145     493   \n",
       "1516   1150          1680354484    682    22   28   12  2020      145     493   \n",
       "1517   1090          1680354484    682    22   28   12  2020      145     493   \n",
       "\n",
       "       hora  total_articulos     atendido_por  \n",
       "1513  18:29               27  cajero  exrerno  \n",
       "1514  18:29               27  cajero  exrerno  \n",
       "1515  18:29               27  cajero  exrerno  \n",
       "1516  18:29               27  cajero  exrerno  \n",
       "1517  18:29               27  cajero  exrerno  "
      ]
     },
     "execution_count": 19,
     "metadata": {},
     "output_type": "execute_result"
    }
   ],
   "source": [
    "df.tail()"
   ]
  },
  {
   "cell_type": "code",
   "execution_count": 20,
   "metadata": {},
   "outputs": [
    {
     "data": {
      "text/plain": [
       "Index(['date (m/d/y)', 'codigo', 'descripcion', 'cantidad', 'precio_unitario',\n",
       "       'total', 'boleta_electronica', 'local', 'caja', 'dia', 'mes', 'año',\n",
       "       'trans_n', 'cajero', 'hora', 'total_articulos', 'atendido_por'],\n",
       "      dtype='object')"
      ]
     },
     "execution_count": 20,
     "metadata": {},
     "output_type": "execute_result"
    }
   ],
   "source": [
    "df.columns"
   ]
  },
  {
   "cell_type": "code",
   "execution_count": 29,
   "metadata": {},
   "outputs": [
    {
     "name": "stdout",
     "output_type": "stream",
     "text": [
      "<class 'pandas.core.frame.DataFrame'>\n",
      "RangeIndex: 1518 entries, 0 to 1517\n",
      "Data columns (total 17 columns):\n",
      " #   Column              Non-Null Count  Dtype         \n",
      "---  ------              --------------  -----         \n",
      " 0   date (m/d/y)        1518 non-null   datetime64[ns]\n",
      " 1   codigo              1518 non-null   int64         \n",
      " 2   descripcion         1518 non-null   object        \n",
      " 3   cantidad            1518 non-null   float64       \n",
      " 4   precio_unitario     1518 non-null   int64         \n",
      " 5   total               1518 non-null   int64         \n",
      " 6   boleta_electronica  1518 non-null   int64         \n",
      " 7   local               1518 non-null   int64         \n",
      " 8   caja                1518 non-null   int64         \n",
      " 9   dia                 1518 non-null   int64         \n",
      " 10  mes                 1518 non-null   int64         \n",
      " 11  año                 1518 non-null   int64         \n",
      " 12  trans_n             1518 non-null   int64         \n",
      " 13  cajero              1518 non-null   int64         \n",
      " 14  hora                1518 non-null   object        \n",
      " 15  total_articulos     1518 non-null   int64         \n",
      " 16  atendido_por        1518 non-null   object        \n",
      "dtypes: datetime64[ns](1), float64(1), int64(12), object(3)\n",
      "memory usage: 201.7+ KB\n"
     ]
    }
   ],
   "source": [
    "df.info()"
   ]
  },
  {
   "cell_type": "code",
   "execution_count": 22,
   "metadata": {},
   "outputs": [],
   "source": [
    "df['date (m/d/y)'] =  pd.to_datetime(df['date (m/d/y)'] )"
   ]
  },
  {
   "cell_type": "code",
   "execution_count": 23,
   "metadata": {},
   "outputs": [],
   "source": [
    "df['date (m/d/y)'] =  pd.to_datetime(df['date (m/d/y)'], format='%d/%m/%Y' )"
   ]
  },
  {
   "cell_type": "markdown",
   "metadata": {},
   "source": [
    "### 1.How much money (CLP) did I spend on groceries in 2020?\n"
   ]
  },
  {
   "cell_type": "code",
   "execution_count": 24,
   "metadata": {},
   "outputs": [
    {
     "data": {
      "text/plain": [
       "2799956"
      ]
     },
     "execution_count": 24,
     "metadata": {},
     "output_type": "execute_result"
    }
   ],
   "source": [
    "df['total'].sum()"
   ]
  },
  {
   "cell_type": "markdown",
   "metadata": {},
   "source": [
    "### 2.Which is the most expensive item I have purchased?\n"
   ]
  },
  {
   "cell_type": "code",
   "execution_count": 25,
   "metadata": {},
   "outputs": [
    {
     "data": {
      "text/html": [
       "<div>\n",
       "<style scoped>\n",
       "    .dataframe tbody tr th:only-of-type {\n",
       "        vertical-align: middle;\n",
       "    }\n",
       "\n",
       "    .dataframe tbody tr th {\n",
       "        vertical-align: top;\n",
       "    }\n",
       "\n",
       "    .dataframe thead th {\n",
       "        text-align: right;\n",
       "    }\n",
       "</style>\n",
       "<table border=\"1\" class=\"dataframe\">\n",
       "  <thead>\n",
       "    <tr style=\"text-align: right;\">\n",
       "      <th></th>\n",
       "      <th>date (m/d/y)</th>\n",
       "      <th>codigo</th>\n",
       "      <th>descripcion</th>\n",
       "      <th>cantidad</th>\n",
       "      <th>precio_unitario</th>\n",
       "      <th>total</th>\n",
       "      <th>boleta_electronica</th>\n",
       "      <th>local</th>\n",
       "      <th>caja</th>\n",
       "      <th>dia</th>\n",
       "      <th>mes</th>\n",
       "      <th>año</th>\n",
       "      <th>trans_n</th>\n",
       "      <th>cajero</th>\n",
       "      <th>hora</th>\n",
       "      <th>total_articulos</th>\n",
       "      <th>atendido_por</th>\n",
       "    </tr>\n",
       "  </thead>\n",
       "  <tbody>\n",
       "    <tr>\n",
       "      <th>1063</th>\n",
       "      <td>2020-09-21</td>\n",
       "      <td>7802502113089</td>\n",
       "      <td>AUDIF. GAMER</td>\n",
       "      <td>1.0</td>\n",
       "      <td>22990</td>\n",
       "      <td>22990</td>\n",
       "      <td>501305190</td>\n",
       "      <td>682</td>\n",
       "      <td>35</td>\n",
       "      <td>21</td>\n",
       "      <td>9</td>\n",
       "      <td>2020</td>\n",
       "      <td>2</td>\n",
       "      <td>64</td>\n",
       "      <td>8:44</td>\n",
       "      <td>1</td>\n",
       "      <td>VENDEDORINTEGRAL TUR</td>\n",
       "    </tr>\n",
       "  </tbody>\n",
       "</table>\n",
       "</div>"
      ],
      "text/plain": [
       "     date (m/d/y)         codigo   descripcion  cantidad  precio_unitario  \\\n",
       "1063   2020-09-21  7802502113089  AUDIF. GAMER       1.0            22990   \n",
       "\n",
       "      total  boleta_electronica  local  caja  dia  mes   año  trans_n  cajero  \\\n",
       "1063  22990           501305190    682    35   21    9  2020        2      64   \n",
       "\n",
       "      hora  total_articulos          atendido_por  \n",
       "1063  8:44                1  VENDEDORINTEGRAL TUR  "
      ]
     },
     "execution_count": 25,
     "metadata": {},
     "output_type": "execute_result"
    }
   ],
   "source": [
    "df.loc[(df['precio_unitario'] == df['precio_unitario'].max())]\n"
   ]
  },
  {
   "cell_type": "markdown",
   "metadata": {},
   "source": [
    "### 3. Which are the items I purchased most often?"
   ]
  },
  {
   "cell_type": "code",
   "execution_count": 26,
   "metadata": {},
   "outputs": [
    {
     "data": {
      "text/plain": [
       "PLATANO         43\n",
       "YOGHURT BOLS    40\n",
       "HUEVO GRANDE    36\n",
       "PALTA HASS      25\n",
       "POLLO ENTERO    25\n",
       "NARANJA 1.5     23\n",
       "CILANTRO BOL    23\n",
       "CHAMPINON BA    21\n",
       "ATUN LOMITO     21\n",
       "TOMATES         21\n",
       "Name: descripcion, dtype: int64"
      ]
     },
     "execution_count": 26,
     "metadata": {},
     "output_type": "execute_result"
    }
   ],
   "source": [
    "df['descripcion'].value_counts()[0:10] # Based on the product description\n"
   ]
  },
  {
   "cell_type": "code",
   "execution_count": 27,
   "metadata": {},
   "outputs": [
    {
     "data": {
      "text/html": [
       "<div>\n",
       "<style scoped>\n",
       "    .dataframe tbody tr th:only-of-type {\n",
       "        vertical-align: middle;\n",
       "    }\n",
       "\n",
       "    .dataframe tbody tr th {\n",
       "        vertical-align: top;\n",
       "    }\n",
       "\n",
       "    .dataframe thead th {\n",
       "        text-align: right;\n",
       "    }\n",
       "</style>\n",
       "<table border=\"1\" class=\"dataframe\">\n",
       "  <thead>\n",
       "    <tr style=\"text-align: right;\">\n",
       "      <th></th>\n",
       "      <th>date (m/d/y)</th>\n",
       "      <th>codigo</th>\n",
       "      <th>descripcion</th>\n",
       "      <th>cantidad</th>\n",
       "      <th>precio_unitario</th>\n",
       "      <th>total</th>\n",
       "      <th>boleta_electronica</th>\n",
       "      <th>local</th>\n",
       "      <th>caja</th>\n",
       "      <th>dia</th>\n",
       "      <th>mes</th>\n",
       "      <th>año</th>\n",
       "      <th>trans_n</th>\n",
       "      <th>cajero</th>\n",
       "      <th>hora</th>\n",
       "      <th>total_articulos</th>\n",
       "      <th>atendido_por</th>\n",
       "    </tr>\n",
       "  </thead>\n",
       "  <tbody>\n",
       "  </tbody>\n",
       "</table>\n",
       "</div>"
      ],
      "text/plain": [
       "Empty DataFrame\n",
       "Columns: [date (m/d/y), codigo, descripcion, cantidad, precio_unitario, total, boleta_electronica, local, caja, dia, mes, año, trans_n, cajero, hora, total_articulos, atendido_por]\n",
       "Index: []"
      ]
     },
     "execution_count": 27,
     "metadata": {},
     "output_type": "execute_result"
    }
   ],
   "source": [
    "df.loc[df['codigo']== '2000140000005.0'][0:1]"
   ]
  },
  {
   "cell_type": "markdown",
   "metadata": {},
   "source": [
    "### 4. How much did I spent each month?\n"
   ]
  },
  {
   "cell_type": "code",
   "execution_count": 31,
   "metadata": {},
   "outputs": [
    {
     "data": {
      "text/plain": [
       "<AxesSubplot:xlabel='date (m/d/y)'>"
      ]
     },
     "execution_count": 31,
     "metadata": {},
     "output_type": "execute_result"
    },
    {
     "data": {
      "image/png": "[encoded data removed]",
      "text/plain": [
       "<Figure size 432x288 with 1 Axes>"
      ]
     },
     "metadata": {
      "needs_background": "light"
     },
     "output_type": "display_data"
    }
   ],
   "source": [
    "df.index = pd.to_datetime(df['date (m/d/y)'],format='%d/%m/%Y')\n",
    "df.groupby(by=[df.index.month])\n",
    "df['total'].groupby(pd.Grouper(freq=\"M\")).sum()\n",
    "\n",
    "df['total'].groupby(pd.Grouper(freq=\"M\")).sum().plot()\n"
   ]
  },
  {
   "cell_type": "markdown",
   "metadata": {},
   "source": [
    "### 5. In which day of the week did I purchased most items?\n"
   ]
  },
  {
   "cell_type": "code",
   "execution_count": 32,
   "metadata": {},
   "outputs": [
    {
     "name": "stderr",
     "output_type": "stream",
     "text": [
      "<ipython-input-32-bef1163e2dcd>:5: FutureWarning: Series.dt.weekofyear and Series.dt.week have been deprecated.  Please use Series.dt.isocalendar().week instead.\n",
      "  df['#SEMANA'] = df['date (m/d/y)'].dt.week\n"
     ]
    }
   ],
   "source": [
    "# Let's break the date field to month,day,week,dayofweek,\n",
    "\n",
    "# df['MES']= df['FECHA EMISION'].dt.month\n",
    "# df['DIA']= df['FECHA EMISION'].dt.day\n",
    "df['#SEMANA'] = df['date (m/d/y)'].dt.week\n",
    "df['DIA_DE_SEMANA'] = df['date (m/d/y)'].dt.dayofweek\n"
   ]
  },
  {
   "cell_type": "code",
   "execution_count": 33,
   "metadata": {},
   "outputs": [],
   "source": [
    "dw_mapping={\n",
    "    0: 'Lunes', \n",
    "    1: 'Martes', \n",
    "    2: 'Miércoles', \n",
    "    3: 'Jueves', \n",
    "    4: 'Viernes',\n",
    "    5: 'Sábado', \n",
    "    6: 'Domingo'\n",
    "}"
   ]
  },
  {
   "cell_type": "code",
   "execution_count": 34,
   "metadata": {},
   "outputs": [
    {
     "data": {
      "text/plain": [
       "Viernes      779\n",
       "Martes       347\n",
       "Lunes        160\n",
       "Sábado       118\n",
       "Miércoles     60\n",
       "Domingo       30\n",
       "Jueves        24\n",
       "Name: DIA_DE_SEMANA, dtype: int64"
      ]
     },
     "execution_count": 34,
     "metadata": {},
     "output_type": "execute_result"
    }
   ],
   "source": [
    "df['DIA_DE_SEMANA'].map(dw_mapping).value_counts()\n"
   ]
  },
  {
   "cell_type": "markdown",
   "metadata": {},
   "source": [
    "### 7. How many times did I go to the supermarket?"
   ]
  },
  {
   "cell_type": "code",
   "execution_count": 36,
   "metadata": {},
   "outputs": [
    {
     "data": {
      "text/plain": [
       "66"
      ]
     },
     "execution_count": 36,
     "metadata": {},
     "output_type": "execute_result"
    }
   ],
   "source": [
    "df['date (m/d/y)'].nunique() # Determine how many diferent days did I went to the grocery store\n"
   ]
  },
  {
   "cell_type": "markdown",
   "metadata": {},
   "source": [
    "### 8. In which day of the week did I purchased most often?\n"
   ]
  },
  {
   "cell_type": "code",
   "execution_count": 38,
   "metadata": {},
   "outputs": [
    {
     "data": {
      "text/html": [
       "<div>\n",
       "<style scoped>\n",
       "    .dataframe tbody tr th:only-of-type {\n",
       "        vertical-align: middle;\n",
       "    }\n",
       "\n",
       "    .dataframe tbody tr th {\n",
       "        vertical-align: top;\n",
       "    }\n",
       "\n",
       "    .dataframe thead th {\n",
       "        text-align: right;\n",
       "    }\n",
       "</style>\n",
       "<table border=\"1\" class=\"dataframe\">\n",
       "  <thead>\n",
       "    <tr style=\"text-align: right;\">\n",
       "      <th></th>\n",
       "      <th>nunique</th>\n",
       "    </tr>\n",
       "    <tr>\n",
       "      <th>DIA_DE_SEMANA</th>\n",
       "      <th></th>\n",
       "    </tr>\n",
       "  </thead>\n",
       "  <tbody>\n",
       "    <tr>\n",
       "      <th>Domingo</th>\n",
       "      <td>3</td>\n",
       "    </tr>\n",
       "    <tr>\n",
       "      <th>Jueves</th>\n",
       "      <td>4</td>\n",
       "    </tr>\n",
       "    <tr>\n",
       "      <th>Lunes</th>\n",
       "      <td>10</td>\n",
       "    </tr>\n",
       "    <tr>\n",
       "      <th>Martes</th>\n",
       "      <td>13</td>\n",
       "    </tr>\n",
       "    <tr>\n",
       "      <th>Miércoles</th>\n",
       "      <td>5</td>\n",
       "    </tr>\n",
       "    <tr>\n",
       "      <th>Sábado</th>\n",
       "      <td>5</td>\n",
       "    </tr>\n",
       "    <tr>\n",
       "      <th>Viernes</th>\n",
       "      <td>26</td>\n",
       "    </tr>\n",
       "  </tbody>\n",
       "</table>\n",
       "</div>"
      ],
      "text/plain": [
       "               nunique\n",
       "DIA_DE_SEMANA         \n",
       "Domingo              3\n",
       "Jueves               4\n",
       "Lunes               10\n",
       "Martes              13\n",
       "Miércoles            5\n",
       "Sábado               5\n",
       "Viernes             26"
      ]
     },
     "execution_count": 38,
     "metadata": {},
     "output_type": "execute_result"
    }
   ],
   "source": [
    "# to now how many items per day add ,'count' to agg parameters\n",
    "df['date (m/d/y)'].groupby(df['DIA_DE_SEMANA'].map(dw_mapping)).agg(['nunique'])"
   ]
  },
  {
   "cell_type": "markdown",
   "metadata": {},
   "source": [
    "### 9. How many different products have I purchased?\n"
   ]
  },
  {
   "cell_type": "code",
   "execution_count": 39,
   "metadata": {},
   "outputs": [
    {
     "data": {
      "text/plain": [
       "610"
      ]
     },
     "execution_count": 39,
     "metadata": {},
     "output_type": "execute_result"
    }
   ],
   "source": [
    "df['codigo'].nunique() # Based on the product code (SKU)\n"
   ]
  },
  {
   "cell_type": "markdown",
   "metadata": {},
   "source": [
    "### 9. How much have I spent in the most frequent purchased item per month?\n"
   ]
  },
  {
   "cell_type": "code",
   "execution_count": 40,
   "metadata": {},
   "outputs": [
    {
     "data": {
      "text/plain": [
       "2000140000005    42\n",
       "7804144000468    35\n",
       "2030300000002    25\n",
       "7801365000284    21\n",
       "2000010000005    21\n",
       "                 ..\n",
       "7802920202105     1\n",
       "400006989017      1\n",
       "400006968531      1\n",
       "7806545000306     1\n",
       "7802351000462     1\n",
       "Name: codigo, Length: 610, dtype: int64"
      ]
     },
     "execution_count": 40,
     "metadata": {},
     "output_type": "execute_result"
    }
   ],
   "source": [
    "# First I will find the most frequent purchased item\n",
    "most_frequent_item = df['codigo'].value_counts()\n",
    "most_frequent_item"
   ]
  },
  {
   "cell_type": "code",
   "execution_count": 44,
   "metadata": {},
   "outputs": [
    {
     "data": {
      "text/plain": [
       "46073"
      ]
     },
     "execution_count": 44,
     "metadata": {},
     "output_type": "execute_result"
    }
   ],
   "source": [
    "# Let's see what item corresponds to SKU 2000140000005         \n",
    "df.loc[df['codigo']==2000140000005].total.sum()"
   ]
  },
  {
   "cell_type": "markdown",
   "metadata": {},
   "source": [
    "### 10. How much have changed the price of the most frequent purchased item?\n"
   ]
  },
  {
   "cell_type": "code",
   "execution_count": 45,
   "metadata": {},
   "outputs": [
    {
     "data": {
      "text/plain": [
       "<AxesSubplot:xlabel='date (m/d/y)'>"
      ]
     },
     "execution_count": 45,
     "metadata": {},
     "output_type": "execute_result"
    },
    {
     "data": {
      "image/png": "[encoded data removed]",
      "text/plain": [
       "<Figure size 432x288 with 1 Axes>"
      ]
     },
     "metadata": {
      "needs_background": "light"
     },
     "output_type": "display_data"
    }
   ],
   "source": [
    "df.loc[(df['descripcion'] =='PLATANO')].plot(x='date (m/d/y)', y='precio_unitario')\n"
   ]
  },
  {
   "cell_type": "markdown",
   "metadata": {},
   "source": [
    "### 11. How much did I spent on weekly basis?\n"
   ]
  },
  {
   "cell_type": "code",
   "execution_count": 46,
   "metadata": {},
   "outputs": [
    {
     "data": {
      "text/plain": [
       "<AxesSubplot:xlabel='date (m/d/y)'>"
      ]
     },
     "execution_count": 46,
     "metadata": {},
     "output_type": "execute_result"
    },
    {
     "data": {
      "image/png": "[encoded data removed]",
      "text/plain": [
       "<Figure size 432x288 with 1 Axes>"
      ]
     },
     "metadata": {
      "needs_background": "light"
     },
     "output_type": "display_data"
    }
   ],
   "source": [
    "df['total'].groupby(pd.Grouper(freq=\"W\")).sum().plot()\n"
   ]
  },
  {
   "cell_type": "code",
   "execution_count": 47,
   "metadata": {},
   "outputs": [
    {
     "data": {
      "text/plain": [
       "date (m/d/y)\n",
       "2020-01-19    87998\n",
       "2020-01-26    39475\n",
       "2020-02-02    82660\n",
       "2020-02-09        0\n",
       "2020-02-16    47876\n",
       "2020-02-23    30485\n",
       "2020-03-01    21172\n",
       "2020-03-08    38749\n",
       "2020-03-15    38307\n",
       "2020-03-22    18990\n",
       "2020-03-29    52386\n",
       "2020-04-05    50348\n",
       "2020-04-12    68355\n",
       "2020-04-19    69641\n",
       "2020-04-26    63328\n",
       "2020-05-03    73047\n",
       "2020-05-10    56865\n",
       "2020-05-17    91316\n",
       "2020-05-24    58399\n",
       "2020-05-31    62107\n",
       "2020-06-07    58906\n",
       "2020-06-14    66342\n",
       "2020-06-21    51165\n",
       "2020-06-28    63187\n",
       "2020-07-05    56278\n",
       "2020-07-12    43503\n",
       "2020-07-19    58003\n",
       "2020-07-26    57425\n",
       "2020-08-02    55983\n",
       "2020-08-09    56292\n",
       "2020-08-16    56085\n",
       "2020-08-23    76033\n",
       "2020-08-30    55221\n",
       "2020-09-06    44918\n",
       "2020-09-13    71779\n",
       "2020-09-20        0\n",
       "2020-09-27    75387\n",
       "2020-10-04    59643\n",
       "2020-10-11    67005\n",
       "2020-10-18    69300\n",
       "2020-10-25    58216\n",
       "2020-11-01    48297\n",
       "2020-11-08    55634\n",
       "2020-11-15    53483\n",
       "2020-11-22    40660\n",
       "2020-11-29    40600\n",
       "2020-12-06    54320\n",
       "2020-12-13    76284\n",
       "2020-12-20    52879\n",
       "2020-12-27    71557\n",
       "2021-01-03    54067\n",
       "Freq: W-SUN, Name: total, dtype: int64"
      ]
     },
     "execution_count": 47,
     "metadata": {},
     "output_type": "execute_result"
    }
   ],
   "source": [
    "df['total'].groupby(pd.Grouper(freq=\"W\")).sum()\n"
   ]
  },
  {
   "cell_type": "markdown",
   "metadata": {},
   "source": [
    "### Sum the money spent on a specific item\n"
   ]
  },
  {
   "cell_type": "code",
   "execution_count": 52,
   "metadata": {},
   "outputs": [
    {
     "data": {
      "text/plain": [
       "42459"
      ]
     },
     "execution_count": 52,
     "metadata": {},
     "output_type": "execute_result"
    }
   ],
   "source": [
    "df[df['descripcion'].str.contains('TOMATES')].total.sum()#.df['Precio Total'].sum()\n"
   ]
  }
 ],
 "metadata": {
  "kernelspec": {
   "display_name": "Python 3",
   "language": "python",
   "name": "python3"
  },
  "language_info": {
   "codemirror_mode": {
    "name": "ipython",
    "version": 3
   },
   "file_extension": ".py",
   "mimetype": "text/x-python",
   "name": "python",
   "nbconvert_exporter": "python",
   "pygments_lexer": "ipython3",
   "version": "3.8.5"
  }
 },
 "nbformat": 4,
 "nbformat_minor": 4
}
